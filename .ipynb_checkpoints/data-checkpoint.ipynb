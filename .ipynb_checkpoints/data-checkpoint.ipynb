{
 "cells": [
  {
   "cell_type": "code",
   "execution_count": 1,
   "metadata": {},
   "outputs": [],
   "source": [
    "import numpy as np\n",
    "import pandas as pd\n",
    "import string"
   ]
  },
  {
   "cell_type": "code",
   "execution_count": 33,
   "metadata": {},
   "outputs": [],
   "source": [
    "def load_data(loc='./'):\n",
    "    trainloc = loc + 'msr_paraphrase_train.txt'\n",
    "    testloc = loc + 'msr_paraphrase_test.txt'\n",
    "\n",
    "    sent1_train, sent2_train = [], []\n",
    "    sent1_test, sent2_test = [], []\n",
    "    label_train = []\n",
    "    label_test = []\n",
    "    \n",
    "    with open(trainloc, 'r', encoding='utf8') as f:\n",
    "        f.readline()  # skipping the header of the file\n",
    "        for line in f:\n",
    "            text = line.strip().split('\\t')\n",
    "            sent1_train.append(text[3])\n",
    "            sent2_train.append(text[4])\n",
    "            label_train.append(int(text[0]))\n",
    "            \n",
    "    df1 = pd.DataFrame()\n",
    "    df1.insert(0, \"is_paraphrase\", label_train)\n",
    "    df1.insert(1, \"sentence_A\", sent1_train)\n",
    "    df1.insert(2, \"sentence_B\", sent2_train)\n",
    "    \n",
    "    with open(testloc, 'r', encoding='utf8') as f:\n",
    "        f.readline()  # skipping the header of the file\n",
    "        for line in f:\n",
    "            text = line.strip().split('\\t')\n",
    "            sent1_test.append(text[3])\n",
    "            sent2_test.append(text[4])\n",
    "            label_test.append(int(text[0]))\n",
    "            \n",
    "    df2 = pd.DataFrame()\n",
    "    df2.insert(0, \"is_paraphrase\", label_test)\n",
    "    df2.insert(1, \"sentence_A\", sent1_test)\n",
    "    df2.insert(2, \"sentence_B\", sent2_test)\n",
    "    \n",
    "    return df1, df2"
   ]
  },
  {
   "cell_type": "code",
   "execution_count": 34,
   "metadata": {},
   "outputs": [],
   "source": [
    "df_train, df_test = load_data()"
   ]
  },
  {
   "cell_type": "code",
   "execution_count": 40,
   "metadata": {},
   "outputs": [],
   "source": [
    "df_train.to_csv(\"train.tsv\", sep = '\\t', index = False, header = False)"
   ]
  },
  {
   "cell_type": "code",
   "execution_count": 41,
   "metadata": {},
   "outputs": [],
   "source": [
    "df_test.to_csv(\"test.tsv\", sep = '\\t', index = False, header = False)"
   ]
  },
  {
   "cell_type": "code",
   "execution_count": null,
   "metadata": {},
   "outputs": [],
   "source": []
  }
 ],
 "metadata": {
  "kernelspec": {
   "display_name": "Pytorch",
   "language": "python",
   "name": "pytorch_test"
  },
  "language_info": {
   "codemirror_mode": {
    "name": "ipython",
    "version": 3
   },
   "file_extension": ".py",
   "mimetype": "text/x-python",
   "name": "python",
   "nbconvert_exporter": "python",
   "pygments_lexer": "ipython3",
   "version": "3.7.3"
  }
 },
 "nbformat": 4,
 "nbformat_minor": 2
}
